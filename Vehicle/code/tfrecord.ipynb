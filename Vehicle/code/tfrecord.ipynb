{
 "cells": [
  {
   "cell_type": "code",
   "execution_count": 1,
   "metadata": {},
   "outputs": [
    {
     "name": "stdout",
     "output_type": "stream",
     "text": [
      "汉字训练集已写入完毕,写入数量为 3974\n",
      "The Chinese character test set has been written and the number is 3974\n"
     ]
    }
   ],
   "source": [
    "from PIL import Image\n",
    "import os\n",
    "import numpy as np\n",
    "import tensorflow as tf\n",
    "\n",
    "# 把传入的value转化为整数型的属性，int64_list对应着 tf.train.Example 的定义\n",
    "def _int64_feature(value):\n",
    "    return tf.train.Feature(int64_list=tf.train.Int64List(value=[value]))\n",
    "# 把传入的value转化为字符串型的属性，bytes_list对应着 tf.train.Example 的定义\n",
    "def _bytes_feature(value):  \n",
    "    return tf.train.Feature(bytes_list=tf.train.BytesList(value=[value]))\n",
    "\n",
    "images=[]\n",
    "labels=[]\n",
    "key_list=[]\n",
    "value_list=[]\n",
    "shape=[]\n",
    "label_dict = {0: '云',1: '京',2: '冀',3: '吉',4: '宁',5: '川',6: '广',7: '新',8: '晋',9: '桂',10: '沪',11: '津',12: '浙',13: '渝',14: '湘',15: '琼',16: '甘',17: '皖',18: '粤',19: '苏',20: '蒙',21: '藏',22: '豫',23: '贵',24: '赣',25: '辽',26: '鄂',27: '闽',28: '陕',29: '青',30: '鲁',31: '黑'}\n",
    "for key,value in label_dict.items():\n",
    "    key_list.append(key)\n",
    "    value_list.append(value)\n",
    "nums = os.listdir('./Data/汉字/')\n",
    "for i in range(len(nums)):\n",
    "    img_temp=os.listdir('./Data/汉字/'+nums[i])\n",
    "    for j in range(len(img_temp)):\n",
    "        im=Image.open('./Data/汉字/'+nums[i]+'/'+img_temp[j])\n",
    "        im=im.resize((24,48))\n",
    "        labels.append(key_list[value_list.index(nums[i])])\n",
    "        im = im.convert('L')\n",
    "        im=np.array(im)\n",
    "        images.append(im)\n",
    "images=np.array(images)\n",
    "labels=np.array(labels)\n",
    "writer = tf.python_io.TFRecordWriter('./tfrecords/train.tfrecords')\n",
    "for index in range(images.shape[0]): \n",
    "    #把图像矩阵转化为字符串  \n",
    "    image_raw = images[index].tostring()  \n",
    "    example = tf.train.Example(features=tf.train.Features(\n",
    "        feature={\n",
    "        'label': _int64_feature(labels[index]),  \n",
    "        'image_raw': _bytes_feature(image_raw)}))  \n",
    "    #将Example写入TFRecord文件\n",
    "    writer.write(example.SerializeToString())   \n",
    "writer.close()\n",
    "print('汉字训练集已写入完毕,写入数量为',images.shape[0])\n",
    "\n",
    "images=[]\n",
    "labels=[]\n",
    "key_list=[]\n",
    "value_list=[]\n",
    "shape=[]\n",
    "\n",
    "for key,value in label_dict.items():  \n",
    "    key_list.append(key)  \n",
    "    value_list.append(value)\n",
    "\n",
    "nums = os.listdir('./Data/汉字/')\n",
    "for i in range(len(nums)):\n",
    "    img_temp=os.listdir('./Data/汉字/'+nums[i])\n",
    "    for j in range(len(img_temp)):\n",
    "        im=Image.open('./Data/汉字/'+nums[i]+'/'+img_temp[j])\n",
    "        im=im.resize((24,48))\n",
    "        labels.append(key_list[value_list.index(nums[i])])\n",
    "        im = im.convert('L')\n",
    "        im=np.array(im)\n",
    "        images.append(im)\n",
    "images=np.array(images)\n",
    "labels=np.array(labels)\n",
    "\n",
    "writer = tf.python_io.TFRecordWriter('./tfrecords/test.tfrecords')\n",
    "for index in range(images.shape[0]): \n",
    "    #把图像矩阵转化为字符串  \n",
    "    image_raw = images[index].tostring()  \n",
    "    example = tf.train.Example(features=tf.train.Features(feature={\n",
    "        'label': _int64_feature(labels[index]),  \n",
    "        'image_raw': _bytes_feature(image_raw)}))  \n",
    "    #将 Example 写入TFRecord文件\n",
    "    writer.write(example.SerializeToString())   \n",
    "writer.close()\n",
    "print('The Chinese character test set has been written and the number is',images.shape[0])"
   ]
  },
  {
   "cell_type": "code",
   "execution_count": null,
   "metadata": {
    "collapsed": true
   },
   "outputs": [],
   "source": []
  }
 ],
 "metadata": {
  "kernelspec": {
   "display_name": "Python 3",
   "language": "python",
   "name": "python3"
  },
  "language_info": {
   "codemirror_mode": {
    "name": "ipython",
    "version": 3
   },
   "file_extension": ".py",
   "mimetype": "text/x-python",
   "name": "python",
   "nbconvert_exporter": "python",
   "pygments_lexer": "ipython3",
   "version": "3.6.2"
  }
 },
 "nbformat": 4,
 "nbformat_minor": 2
}
